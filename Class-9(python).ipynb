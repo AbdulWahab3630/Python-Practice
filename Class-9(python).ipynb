{
 "cells": [
  {
   "cell_type": "markdown",
   "metadata": {},
   "source": [
    "# Dictionary\n"
   ]
  },
  {
   "cell_type": "raw",
   "metadata": {},
   "source": [
    "# item = key:value\n",
    "# {key1: value1,\n",
    "#   key2: value2,\n",
    "#   key3: value3......}"
   ]
  },
  {
   "cell_type": "code",
   "execution_count": 1,
   "metadata": {},
   "outputs": [
    {
     "data": {
      "text/plain": [
       "{'id': 2, 'name': 'A.Wahab', 'Course': 'A.I'}"
      ]
     },
     "execution_count": 1,
     "metadata": {},
     "output_type": "execute_result"
    }
   ],
   "source": [
    "d1 = {\"id\" : 2,\n",
    "      \"name\": \"A.Wahab\",\n",
    "      \"Course\": \"A.I\"}\n",
    "d1"
   ]
  },
  {
   "cell_type": "code",
   "execution_count": 2,
   "metadata": {},
   "outputs": [
    {
     "data": {
      "text/plain": [
       "{'id': 10, 'name': 'Ali', 'course': 'A.I'}"
      ]
     },
     "execution_count": 2,
     "metadata": {},
     "output_type": "execute_result"
    }
   ],
   "source": [
    "d1 = {} #empty dictionary\n",
    "d1[\"id\"] = 10\n",
    "d1[\"name\"] = \"Ali\"\n",
    "d1[\"course\"] = \"A.I\"\n",
    "d1"
   ]
  },
  {
   "cell_type": "code",
   "execution_count": 3,
   "metadata": {},
   "outputs": [
    {
     "data": {
      "text/plain": [
       "{'id': 25, 'name': 'A.Wahab', 'Course': 'A.I'}"
      ]
     },
     "execution_count": 3,
     "metadata": {},
     "output_type": "execute_result"
    }
   ],
   "source": [
    "d1 = {\"id\" : 2,\n",
    "      \"name\": \"A.Wahab\",\n",
    "      \"id\" : 25,\n",
    "      \"Course\": \"A.I\"}\n",
    "d1"
   ]
  },
  {
   "cell_type": "code",
   "execution_count": 4,
   "metadata": {},
   "outputs": [
    {
     "name": "stdout",
     "output_type": "stream",
     "text": [
      "{'id': 2, 'name': 'A.Wahab', 'Course': 'A.I'}\n",
      "{}\n"
     ]
    }
   ],
   "source": [
    "d1 = {\"id\" : 2, \"name\": \"A.Wahab\", \"Course\": \"A.I\"}\n",
    "print(d1)\n",
    "d1.clear()\n",
    "print(d1)"
   ]
  },
  {
   "cell_type": "code",
   "execution_count": 5,
   "metadata": {},
   "outputs": [
    {
     "name": "stdout",
     "output_type": "stream",
     "text": [
      "{'id': 2, 'name': 'A.Wahab', 'Course': 'A.I'}\n"
     ]
    },
    {
     "ename": "NameError",
     "evalue": "name 'd1' is not defined",
     "output_type": "error",
     "traceback": [
      "\u001b[1;31m---------------------------------------------------------------------------\u001b[0m",
      "\u001b[1;31mNameError\u001b[0m                                 Traceback (most recent call last)",
      "\u001b[1;32m<ipython-input-5-ef2d3e66c413>\u001b[0m in \u001b[0;36m<module>\u001b[1;34m\u001b[0m\n\u001b[0;32m      2\u001b[0m \u001b[0mprint\u001b[0m\u001b[1;33m(\u001b[0m\u001b[0md1\u001b[0m\u001b[1;33m)\u001b[0m\u001b[1;33m\u001b[0m\u001b[1;33m\u001b[0m\u001b[0m\n\u001b[0;32m      3\u001b[0m \u001b[1;32mdel\u001b[0m \u001b[0md1\u001b[0m\u001b[1;33m\u001b[0m\u001b[1;33m\u001b[0m\u001b[0m\n\u001b[1;32m----> 4\u001b[1;33m \u001b[0mprint\u001b[0m\u001b[1;33m(\u001b[0m\u001b[0md1\u001b[0m\u001b[1;33m)\u001b[0m\u001b[1;33m\u001b[0m\u001b[1;33m\u001b[0m\u001b[0m\n\u001b[0m",
      "\u001b[1;31mNameError\u001b[0m: name 'd1' is not defined"
     ]
    }
   ],
   "source": [
    "d1 = {\"id\" : 2, \"name\": \"A.Wahab\", \"Course\": \"A.I\"}\n",
    "print(d1)\n",
    "del d1\n",
    "print(d1)"
   ]
  },
  {
   "cell_type": "code",
   "execution_count": 7,
   "metadata": {},
   "outputs": [
    {
     "name": "stdout",
     "output_type": "stream",
     "text": [
      "{'id': 2, 'name': 'A.Wahab', 'Course': 'A.I'}\n",
      "{'id': 2, 'name': 'Abdul', 'Course': 'A.I'}\n",
      "{'id': 2, 'name': 'A.Wahab', 'Course': 'A.I'}\n"
     ]
    }
   ],
   "source": [
    "d1 = {\"id\" : 2, \"name\": \"A.Wahab\", \"Course\": \"A.I\"}\n",
    "print(d1)\n",
    "d2 = d1.copy()\n",
    "d1[\"name\"] = \"Abdul\"\n",
    "print(d1)\n",
    "print(d2)"
   ]
  },
  {
   "cell_type": "code",
   "execution_count": null,
   "metadata": {},
   "outputs": [],
   "source": [
    "l1 = [\"Name\", \"Id\", \"Contact\", \"Dob\", \"Cnic\"]\n",
    "\n",
    "dict.fromkeys(l1)"
   ]
  },
  {
   "cell_type": "code",
   "execution_count": 7,
   "metadata": {},
   "outputs": [
    {
     "name": "stdout",
     "output_type": "stream",
     "text": [
      "Enter keys comma seperatedid,Name,Cnic,Course\n"
     ]
    },
    {
     "data": {
      "text/plain": [
       "{'id': None, 'Name': None, 'Cnic': None, 'Course': None}"
      ]
     },
     "execution_count": 7,
     "metadata": {},
     "output_type": "execute_result"
    }
   ],
   "source": [
    "data = list(input(\"Enter keys comma seperated\").split(\",\"))\n",
    "dict.fromkeys(data)\n"
   ]
  },
  {
   "cell_type": "code",
   "execution_count": 14,
   "metadata": {},
   "outputs": [
    {
     "name": "stdout",
     "output_type": "stream",
     "text": [
      "Enter keys comma seperateda,b,c\n",
      "Enter values x,y,z\n",
      "{'a': 'x', 'b': 'y', 'c': 'z'}\n"
     ]
    }
   ],
   "source": [
    "key = input(\"Enter keys comma seperated\").split(\",\")\n",
    "values = input(\"Enter values \").split(\",\")\n",
    "d1 ={}\n",
    "for i in range(len(key)):\n",
    "     d1[key[i]] = values[i]\n",
    "print(d1)"
   ]
  },
  {
   "cell_type": "code",
   "execution_count": 5,
   "metadata": {},
   "outputs": [
    {
     "name": "stdout",
     "output_type": "stream",
     "text": [
      "Enter keys comma seperateda,b,c\n",
      "Enter values x,y,z\n",
      "{'a': 'x', 'b': 'y', 'c': 'z'}\n"
     ]
    }
   ],
   "source": [
    "key = input(\"Enter keys comma seperated\").split(\",\")\n",
    "values = input(\"Enter values \").split(\",\")\n",
    "d1 ={}\n",
    "i=0\n",
    "while(i<len(key)):\n",
    "    d1[key[i]] = values[i]\n",
    "    i+=1\n",
    "print(d1)"
   ]
  },
  {
   "cell_type": "code",
   "execution_count": 7,
   "metadata": {},
   "outputs": [
    {
     "name": "stdout",
     "output_type": "stream",
     "text": [
      "Enter keys comma seperateda,b,c\n",
      "Enter values x,y,z\n"
     ]
    },
    {
     "data": {
      "text/plain": [
       "{'a': 'x', 'b': 'y', 'c': 'z'}"
      ]
     },
     "execution_count": 7,
     "metadata": {},
     "output_type": "execute_result"
    }
   ],
   "source": [
    "l1 = input(\"Enter keys comma seperated\").split(\",\")\n",
    "l2 = input(\"Enter values \").split(\",\")\n",
    "{l1[i]:l2[i] for i in range(len(l1))}"
   ]
  },
  {
   "cell_type": "code",
   "execution_count": 8,
   "metadata": {},
   "outputs": [
    {
     "name": "stdout",
     "output_type": "stream",
     "text": [
      "Enter keys comma seperateda,b,c\n",
      "Enter values x,y,z\n"
     ]
    },
    {
     "data": {
      "text/plain": [
       "[('a', 'x'), ('b', 'y'), ('c', 'z')]"
      ]
     },
     "execution_count": 8,
     "metadata": {},
     "output_type": "execute_result"
    }
   ],
   "source": [
    "l1 = input(\"Enter keys comma seperated\").split(\",\")\n",
    "l2 = input(\"Enter values \").split(\",\")\n",
    "list(zip(l1,l2))"
   ]
  },
  {
   "cell_type": "code",
   "execution_count": 9,
   "metadata": {},
   "outputs": [
    {
     "name": "stdout",
     "output_type": "stream",
     "text": [
      "Enter keys comma seperatedx,y,z\n",
      "Enter values a,b,c\n",
      "{'x': 'a', 'y': 'b', 'z': 'c'}\n"
     ]
    }
   ],
   "source": [
    "l1 = input(\"Enter keys comma seperated\").split(\",\")\n",
    "l2 = input(\"Enter values \").split(\",\")\n",
    "d1={}\n",
    "for k, v in zip(l1,l2):\n",
    "    d1[k] = v\n",
    "print(d1)\n",
    "    "
   ]
  },
  {
   "cell_type": "code",
   "execution_count": 10,
   "metadata": {},
   "outputs": [
    {
     "name": "stdout",
     "output_type": "stream",
     "text": [
      "Enter keys comma seperateda,b,c\n",
      "Enter values x,y,xz\n"
     ]
    },
    {
     "data": {
      "text/plain": [
       "{'a': 'x', 'b': 'y', 'c': 'xz'}"
      ]
     },
     "execution_count": 10,
     "metadata": {},
     "output_type": "execute_result"
    }
   ],
   "source": [
    "l1 = input(\"Enter keys comma seperated\").split(\",\")\n",
    "l2 = input(\"Enter values \").split(\",\")\n",
    "dict(zip(l1,l2))"
   ]
  },
  {
   "cell_type": "code",
   "execution_count": 12,
   "metadata": {},
   "outputs": [
    {
     "name": "stdout",
     "output_type": "stream",
     "text": [
      "Enter id comma seperated1,2,3\n",
      "Enter name comma seperateda,b,c\n",
      "Enter skills comma seperatedA,B,C,I\n"
     ]
    },
    {
     "data": {
      "text/plain": [
       "{'id': ['1', '2', '3'],\n",
       " 'name': ['a', 'b', 'c'],\n",
       " 'skills': ['A', 'B', 'C', 'I']}"
      ]
     },
     "execution_count": 12,
     "metadata": {},
     "output_type": "execute_result"
    }
   ],
   "source": [
    "d1={}\n",
    "d1[\"id\"] = input(\"Enter id comma seperated\").split(\",\")\n",
    "d1[\"name\"] = input(\"Enter name comma seperated\").split(\",\")\n",
    "d1[\"skills\"] = input(\"Enter skills comma seperated\").split(\",\")\n",
    "d1"
   ]
  },
  {
   "cell_type": "code",
   "execution_count": 21,
   "metadata": {},
   "outputs": [
    {
     "name": "stdout",
     "output_type": "stream",
     "text": [
      "['A', 'B', 'C', 'D', 'E', 'F', 'G', 'H', 'I', 'J', 'K', 'L', 'M', 'N', 'O', 'P', 'Q', 'R', 'S', 'T', 'U', 'V', 'W', 'X', 'Y', 'Z']\n",
      "['a', 'b', 'c', 'd', 'e', 'f', 'g', 'h', 'i', 'j', 'k', 'l', 'm', 'n', 'o', 'p', 'q', 'r', 's', 't', 'u', 'v', 'w', 'x', 'y', 'z']\n",
      "['0', '1', '2', '3', '4', '5', '6', '7', '8', '9']\n"
     ]
    },
    {
     "data": {
      "text/plain": [
       "[('A', 'z', '0'),\n",
       " ('B', 'y', '1'),\n",
       " ('C', 'x', '2'),\n",
       " ('D', 'w', '3'),\n",
       " ('E', 'v', '4'),\n",
       " ('F', 'u', '5'),\n",
       " ('G', 't', '6'),\n",
       " ('H', 's', '7'),\n",
       " ('I', 'r', '8'),\n",
       " ('J', 'q', '9')]"
      ]
     },
     "execution_count": 21,
     "metadata": {},
     "output_type": "execute_result"
    }
   ],
   "source": [
    "a = [chr(i) for i in range(65,91)]\n",
    "b = [chr(i) for i in range(97,123)]\n",
    "c = [chr(i) for i in range(48,58)]\n",
    "print(a,b,c, sep=\"\\n\")\n",
    "d = zip(a,sorted(b, reverse=True),c)\n",
    "list(d)\n"
   ]
  },
  {
   "cell_type": "code",
   "execution_count": 40,
   "metadata": {},
   "outputs": [
    {
     "ename": "SyntaxError",
     "evalue": "invalid syntax (<ipython-input-40-592b75e32520>, line 8)",
     "output_type": "error",
     "traceback": [
      "\u001b[1;36m  File \u001b[1;32m\"<ipython-input-40-592b75e32520>\"\u001b[1;36m, line \u001b[1;32m8\u001b[0m\n\u001b[1;33m    (k:v for k,v in sorted(d1.items, key=lambda x:x[1], reverse = True))\u001b[0m\n\u001b[1;37m      ^\u001b[0m\n\u001b[1;31mSyntaxError\u001b[0m\u001b[1;31m:\u001b[0m invalid syntax\n"
     ]
    }
   ],
   "source": [
    "d1 = {}\n",
    "d1[\"a\"] = input(\"Enter value\")\n",
    "d1[\"c\"] = input(\"Enter value\")\n",
    "d1[\"b\"] = input(\"Enter value\")\n",
    "d1[\"d\"] = input(\"Enter value\")\n",
    "print(d1)\n",
    "\n",
    "(k:v for k,v in sorted(d1.items, key=lambda x:x[1], reverse = True))\n"
   ]
  },
  {
   "cell_type": "code",
   "execution_count": null,
   "metadata": {},
   "outputs": [],
   "source": [
    "students = {}\n",
    "flag = \"\"\n",
    "i=0\n",
    "while(flag!=\"no\"):\n",
    "    d1 = {}\n",
    "    d1[\"id\"] = input(\"Enter id\")\n",
    "    d1[\"name\"] = input(\"Enter name\")\n",
    "    d1[\"skills\"] = input(\"Enter skills comma seperated\").split(\",\")\n",
    "    students.appends(d1)\n",
    "    flag = input(\"Do you want to enter more data yes/no\")\n",
    "students"
   ]
  },
  {
   "cell_type": "code",
   "execution_count": null,
   "metadata": {},
   "outputs": [],
   "source": []
  }
 ],
 "metadata": {
  "kernelspec": {
   "display_name": "Python 3",
   "language": "python",
   "name": "python3"
  },
  "language_info": {
   "codemirror_mode": {
    "name": "ipython",
    "version": 3
   },
   "file_extension": ".py",
   "mimetype": "text/x-python",
   "name": "python",
   "nbconvert_exporter": "python",
   "pygments_lexer": "ipython3",
   "version": "3.7.3"
  }
 },
 "nbformat": 4,
 "nbformat_minor": 2
}
