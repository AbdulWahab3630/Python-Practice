{
 "cells": [
  {
   "cell_type": "markdown",
   "metadata": {},
   "source": [
    "# File Handling"
   ]
  },
  {
   "cell_type": "raw",
   "metadata": {},
   "source": [
    "First we convert file into numbers this is called vectorization."
   ]
  },
  {
   "cell_type": "raw",
   "metadata": {},
   "source": [
    "MTA 98-381 ISLAMABAD\n",
    "Silinium\n",
    "Py autogui\n",
    "Beautifulsoup"
   ]
  },
  {
   "cell_type": "raw",
   "metadata": {},
   "source": [
    "writrer after seek -> Cursor position is at the end. We can move it anywhere we want.\n",
    "create -> create file if not present.\n",
    "truncate -> Remove old data update new data.\n",
    "position at start -> Cursor position at the top.\n",
    "position at end -> Cursor position at the end.\n"
   ]
  },
  {
   "cell_type": "code",
   "execution_count": 8,
   "metadata": {},
   "outputs": [
    {
     "ename": "SyntaxError",
     "evalue": "invalid syntax (<ipython-input-8-7dd9131efac2>, line 2)",
     "output_type": "error",
     "traceback": [
      "\u001b[1;36m  File \u001b[1;32m\"<ipython-input-8-7dd9131efac2>\"\u001b[1;36m, line \u001b[1;32m2\u001b[0m\n\u001b[1;33m    Abdul Wahab\u001b[0m\n\u001b[1;37m              ^\u001b[0m\n\u001b[1;31mSyntaxError\u001b[0m\u001b[1;31m:\u001b[0m invalid syntax\n"
     ]
    }
   ],
   "source": [
    "# %load abc.txt          #Relative Path\n",
    "Abdul Wahab"
   ]
  },
  {
   "cell_type": "code",
   "execution_count": 9,
   "metadata": {},
   "outputs": [
    {
     "data": {
      "text/plain": [
       "'C:\\\\Users\\\\TECHNORON'"
      ]
     },
     "execution_count": 9,
     "metadata": {},
     "output_type": "execute_result"
    }
   ],
   "source": [
    "%pwd"
   ]
  },
  {
   "cell_type": "raw",
   "metadata": {},
   "source": [
    "C:\\Users\\TECHNORON       #Absolute Path"
   ]
  },
  {
   "cell_type": "code",
   "execution_count": 14,
   "metadata": {},
   "outputs": [
    {
     "data": {
      "text/plain": [
       "['Abdul Wahab']"
      ]
     },
     "execution_count": 14,
     "metadata": {},
     "output_type": "execute_result"
    }
   ],
   "source": [
    "list(open('abc.txt'))"
   ]
  },
  {
   "cell_type": "code",
   "execution_count": 19,
   "metadata": {},
   "outputs": [
    {
     "name": "stdout",
     "output_type": "stream",
     "text": [
      "Abdul Wahab\n"
     ]
    }
   ],
   "source": [
    "data = open(\"abc.txt\")\n",
    "for d in data:\n",
    "    print(d)\n",
    "data.close()\n"
   ]
  },
  {
   "cell_type": "code",
   "execution_count": 23,
   "metadata": {},
   "outputs": [
    {
     "name": "stdout",
     "output_type": "stream",
     "text": [
      "<class 'str'>\n",
      "Abdul Wahab\n",
      "AI\n",
      "DS\n"
     ]
    }
   ],
   "source": [
    "#with open(file as <variable>)\n",
    "with open(\"abc.txt\", mode = 'r') as f:\n",
    "    content = f.read()\n",
    "    print(type(content))\n",
    "    print(content)"
   ]
  },
  {
   "cell_type": "code",
   "execution_count": 26,
   "metadata": {},
   "outputs": [
    {
     "name": "stdout",
     "output_type": "stream",
     "text": [
      "<class 'str'>\n",
      "Abdul Wahab\n",
      "\n"
     ]
    }
   ],
   "source": [
    "with open(\"abc.txt\", mode = 'r') as f:\n",
    "    content = f.readline()\n",
    "    print(type(content))\n",
    "    print(content)"
   ]
  },
  {
   "cell_type": "code",
   "execution_count": 27,
   "metadata": {},
   "outputs": [
    {
     "name": "stdout",
     "output_type": "stream",
     "text": [
      "<class 'list'>\n",
      "['Abdul Wahab\\n', 'AI\\n', 'DS']\n"
     ]
    }
   ],
   "source": [
    "with open(\"abc.txt\", mode = 'r') as f:\n",
    "    content = f.readlines()\n",
    "    print(type(content))\n",
    "    print(content)"
   ]
  },
  {
   "cell_type": "code",
   "execution_count": 30,
   "metadata": {},
   "outputs": [],
   "source": [
    "with open(\"aaa.txt\", mode = 'w') as f:           # if we want to store temporary data.\n",
    "    f.write(\"Pakistan Zindabad\")"
   ]
  },
  {
   "cell_type": "code",
   "execution_count": 32,
   "metadata": {},
   "outputs": [],
   "source": [
    "with open(\"aaa.txt\", mode = 'w') as f:\n",
    "    f.write(\"Hello\")"
   ]
  },
  {
   "cell_type": "code",
   "execution_count": 33,
   "metadata": {},
   "outputs": [],
   "source": [
    "with open(\"aaa.txt\", mode = 'a') as f:\n",
    "    f.write(\"World\")                            # if we want to store permanent data."
   ]
  },
  {
   "cell_type": "code",
   "execution_count": 37,
   "metadata": {},
   "outputs": [
    {
     "name": "stdout",
     "output_type": "stream",
     "text": [
      "[]\n"
     ]
    }
   ],
   "source": [
    "with open(\"Three.txt\", mode = 'a+') as f:\n",
    "    f.write(\"DS\") \n",
    "    print(f.readlines())"
   ]
  },
  {
   "cell_type": "code",
   "execution_count": 63,
   "metadata": {},
   "outputs": [
    {
     "name": "stdout",
     "output_type": "stream",
     "text": [
      "['C', 'B', 'A', '[A, B, C]', '[1, 2, 3]\\n']\n"
     ]
    }
   ],
   "source": [
    "with open(\"Test.txt\", mode = 'r+') as f:\n",
    "    a = list(reversed(f.readlines()))\n",
    "    b = list(reversed(['A', 'B', 'C']))\n",
    "    c = b + a\n",
    "    print(c)\n",
    "    d = \" \".join(c)\n",
    "    "
   ]
  },
  {
   "cell_type": "code",
   "execution_count": null,
   "metadata": {},
   "outputs": [],
   "source": [
    "# matplotlib\n",
    "# open cv\n"
   ]
  }
 ],
 "metadata": {
  "kernelspec": {
   "display_name": "Python 3",
   "language": "python",
   "name": "python3"
  },
  "language_info": {
   "codemirror_mode": {
    "name": "ipython",
    "version": 3
   },
   "file_extension": ".py",
   "mimetype": "text/x-python",
   "name": "python",
   "nbconvert_exporter": "python",
   "pygments_lexer": "ipython3",
   "version": "3.7.3"
  }
 },
 "nbformat": 4,
 "nbformat_minor": 2
}
