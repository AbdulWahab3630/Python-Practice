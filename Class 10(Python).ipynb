{
 "cells": [
  {
   "cell_type": "code",
   "execution_count": null,
   "metadata": {},
   "outputs": [],
   "source": [
    "marks = int(input(\"Enter your Marks! \"))\n",
    "if marks >= 90:\n",
    "    print(\"A\")\n",
    "elif marks >= 80 & marks < 90:\n",
    "    print(\"B\")\n",
    "elif marks >= 70 & marks < 80:\n",
    "    print(\"C\")\n",
    "elif marks >= 60 & marks < 70:\n",
    "    print(\"D\")\n",
    "elif marks <= 60:\n",
    "    print(\"E\")\n",
    "else:\n",
    "    print(\"Invalid Input! \")"
   ]
  },
  {
   "cell_type": "code",
   "execution_count": 20,
   "metadata": {},
   "outputs": [
    {
     "name": "stdout",
     "output_type": "stream",
     "text": [
      "Enter the Day!Monday\n",
      "Enter return time!7\n",
      "Scratched or not! Yes/No No\n",
      "Cost :  3.18\n"
     ]
    }
   ],
   "source": [
    "cost_per_night = 1.59\n",
    "day = input(\"Enter the Day!\")\n",
    "time = int(input(\"Enter return time!\"))\n",
    "choice = input(\"Scratched or not! Yes/No \")\n",
    "if (time >= 8 & ((day != \"Sunday\") or (day != \"Thursday\"))):\n",
    "    if choice == \"Yes\":\n",
    "        cost = (cost_per_night + cost_per_night) + 1\n",
    "    else:\n",
    "        cost = cost_per_night + cost_per_night\n",
    "elif (time >= 8 & (day == \"Sunday\")):\n",
    "    if choice == \"Yes\":\n",
    "        cost = ((cost_per_night - ((30 / 100) * cost_per_night)) + cost_per_night) + 1 \n",
    "    else:\n",
    "        cost = (30 / 100) * cost_per_night\n",
    "elif (time >= 8 & (day == \"Thursday\")):\n",
    "    if choice == \"Yes\":\n",
    "        cost = ((cost_per_night - ((50 / 100) * cost_per_night)) + cost_per_night) + 1 \n",
    "    else:\n",
    "        cost = (cost_per_night - ((30 / 100) * cost_per_night)) + cost_per_night\n",
    "elif (time <= 8 & ((day != \"Sunday\") or (day != \"Thursday\"))):\n",
    "    if choice == \"Yes\":\n",
    "        cost = cost_per_night + 1\n",
    "    else:\n",
    "        cost = cost_per_night\n",
    "elif (time <= 8 & day == \"Sunday\"):\n",
    "    if choice == \"Yes\":\n",
    "        cost = (cost_per_night - ((30 / 100) * cost_per_night)) + 1\n",
    "    else:\n",
    "        cost = cost_per_night - ((30 / 100) * cost_per_night)\n",
    "elif (time <= 8 & day == \"Thursday\"):\n",
    "    if choice == \"Yes\":\n",
    "        cost = (cost_per_night - ((50 / 100) * cost_per_night)) + 1\n",
    "    else:\n",
    "        cost = cost_per_night - ((50 / 100) * cost_per_night)\n",
    "else:\n",
    "      print(\"Invalid Input!\")\n",
    "print(\"Cost : \", cost)\n",
    "      \n",
    "      \n",
    "      \n",
    "      \n",
    "\n"
   ]
  },
  {
   "cell_type": "code",
   "execution_count": 21,
   "metadata": {},
   "outputs": [
    {
     "name": "stdout",
     "output_type": "stream",
     "text": [
      "1\n",
      "2\n",
      "3\n",
      "4\n",
      "5\n",
      "6\n"
     ]
    }
   ],
   "source": [
    "l = [1, 2, 3, 4, 5, 6, 7, 8, 9, 10]\n",
    "index = 0\n",
    "while(index < 10):\n",
    "    print(l[index])\n",
    "    if l[index] == 6:\n",
    "        break\n",
    "    else:\n",
    "        index += 1"
   ]
  },
  {
   "cell_type": "code",
   "execution_count": 1,
   "metadata": {},
   "outputs": [
    {
     "name": "stdout",
     "output_type": "stream",
     "text": [
      "Enter your Id! : 1\n",
      "Enter your name : Abdul\n",
      "Enter your Skills : AI\n",
      "Do you want to add another Yes/No!no\n",
      "[{'id': '1', 'Name': 'Abdul', 'Skills': ['AI']}]\n"
     ]
    }
   ],
   "source": [
    "l = []\n",
    "choice = \"\"\n",
    "while choice.lower() != \"no\":\n",
    "    dict1 = {\n",
    "        \"id\": input(\"Enter your Id! : \"),\n",
    "        \"Name\": input(\"Enter your name : \"),\n",
    "        \"Skills\": input(\"Enter your Skills : \").split()\n",
    "    }\n",
    "    l.append(dict1)\n",
    "    choice = input(\"Do you want to add another Yes/No!\")\n",
    "print(l)"
   ]
  },
  {
   "cell_type": "code",
   "execution_count": 7,
   "metadata": {},
   "outputs": [
    {
     "name": "stdout",
     "output_type": "stream",
     "text": [
      "Enter your Name! : Abdul\n",
      "Enter Marks Maths! 12\n",
      "Enter Marks English! 15\n",
      "Enter your Skills : AI\n",
      "Do you want to add another Yes/No!no\n",
      "[{'Name': 'Abdul', 'Marks': {'Maths': '12', 'English': '15'}, 'Hobbies': ['AI']}]\n"
     ]
    }
   ],
   "source": [
    "l = []\n",
    "choice = \"\"\n",
    "while choice.lower() != \"no\":\n",
    "    dict1 = {\n",
    "        \"Name\": input(\"Enter your Name! : \"),\n",
    "        \"Marks\": {\n",
    "            \"Maths\": input(\"Enter Marks Maths! \"),\n",
    "            \"English\": input(\"Enter Marks English! \")\n",
    "        },\n",
    "        \"Hobbies\": input(\"Enter your Skills : \").split(\",\")\n",
    "    }\n",
    "    l.append(dict1)\n",
    "    choice = input(\"Do you want to add another Yes/No!\")\n",
    "print(l)"
   ]
  },
  {
   "cell_type": "code",
   "execution_count": null,
   "metadata": {},
   "outputs": [],
   "source": []
  }
 ],
 "metadata": {
  "kernelspec": {
   "display_name": "Python 3",
   "language": "python",
   "name": "python3"
  },
  "language_info": {
   "codemirror_mode": {
    "name": "ipython",
    "version": 3
   },
   "file_extension": ".py",
   "mimetype": "text/x-python",
   "name": "python",
   "nbconvert_exporter": "python",
   "pygments_lexer": "ipython3",
   "version": "3.7.3"
  }
 },
 "nbformat": 4,
 "nbformat_minor": 2
}
